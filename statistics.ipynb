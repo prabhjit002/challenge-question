{
  "nbformat": 4,
  "nbformat_minor": 0,
  "metadata": {
    "colab": {
      "provenance": [],
      "authorship_tag": "ABX9TyOfHhZpx9CbzoTTl7uJBmCl",
      "include_colab_link": true
    },
    "kernelspec": {
      "name": "python3",
      "display_name": "Python 3"
    },
    "language_info": {
      "name": "python"
    }
  },
  "cells": [
    {
      "cell_type": "markdown",
      "metadata": {
        "id": "view-in-github",
        "colab_type": "text"
      },
      "source": [
        "<a href=\"https://colab.research.google.com/github/prabhjit002/challenge-question/blob/main/statistics.ipynb\" target=\"_parent\"><img src=\"https://colab.research.google.com/assets/colab-badge.svg\" alt=\"Open In Colab\"/></a>"
      ]
    },
    {
      "cell_type": "markdown",
      "source": [
        "Calculation of highest, lowest and average\n"
      ],
      "metadata": {
        "id": "65yuC-N2SKQ4"
      }
    },
    {
      "cell_type": "code",
      "execution_count": null,
      "metadata": {
        "id": "Tag8-SpivtVL"
      },
      "outputs": [],
      "source": [
        "# Initialize student marks for each subject\n",
        "students = [\n",
        "    {'Maths': 78, 'Science': 85, 'English': 67, 'Hindi': 90},\n",
        "    {'Maths': 92, 'Science': 70, 'English': 85, 'Hindi': 80},\n",
        "    {'Maths': 55, 'Science': 65, 'English': 77, 'Hindi': 60},\n",
        "    {'Maths': 88, 'Science': 75, 'English': 72, 'Hindi': 95},\n",
        "    {'Maths': 60, 'Science': 82, 'English': 80, 'Hindi': 77},\n",
        "    {'Maths': 85, 'Science': 90, 'English': 70, 'Hindi': 68},\n",
        "    {'Maths': 75, 'Science': 76, 'English': 82, 'Hindi': 85},\n",
        "    {'Maths': 68, 'Science': 88, 'English': 65, 'Hindi': 75},\n",
        "    {'Maths': 81, 'Science': 67, 'English': 88, 'Hindi': 82},\n",
        "    {'Maths': 90, 'Science': 92, 'English': 75, 'Hindi': 88}\n",
        "]"
      ]
    },
    {
      "cell_type": "code",
      "source": [
        "# Function to calculate highest, lowest, and average for a specific subject\n",
        "def calculate_subject_stats(subject):\n",
        "    marks = [student[subject] for student in students]\n",
        "    highest = max(marks)\n",
        "    lowest = min(marks)\n",
        "    average = sum(marks) / len(marks)\n",
        "    return highest, lowest, average"
      ],
      "metadata": {
        "id": "h44hJoK0wg45"
      },
      "execution_count": null,
      "outputs": []
    },
    {
      "cell_type": "code",
      "source": [
        "\n",
        "# Function to calculate highest, lowest, and average overall (for all subjects)\n",
        "def calculate_overall_stats():\n",
        "    total_marks = [sum(student.values()) for student in students]\n",
        "    highest = max(total_marks)\n",
        "    lowest = min(total_marks)\n",
        "    average = sum(total_marks) / len(total_marks)\n",
        "    return highest, lowest, average"
      ],
      "metadata": {
        "id": "VX7s_Es4wtzX"
      },
      "execution_count": null,
      "outputs": []
    },
    {
      "cell_type": "code",
      "source": [
        "# Display results for each subject\n",
        "subjects = ['Maths', 'Science', 'English', 'Hindi']\n",
        "for subject in subjects:\n",
        "    highest, lowest, average = calculate_subject_stats(subject)\n",
        "    print(f\"{subject}: Highest = {highest}, Lowest = {lowest}, Average = {average:.2f}\")\n",
        "\n",
        "# Display overall results\n",
        "highest, lowest, average = calculate_overall_stats()\n",
        "print(f\"\\nOverall: Highest = {highest}, Lowest = {lowest}, Average = {average:.2f}\")"
      ],
      "metadata": {
        "colab": {
          "base_uri": "https://localhost:8080/"
        },
        "id": "nbg5OGPLw06x",
        "outputId": "302b0d92-2ef5-45fb-af9a-b353833a849d"
      },
      "execution_count": null,
      "outputs": [
        {
          "output_type": "stream",
          "name": "stdout",
          "text": [
            "Maths: Highest = 92, Lowest = 55, Average = 77.20\n",
            "Science: Highest = 92, Lowest = 65, Average = 79.00\n",
            "English: Highest = 88, Lowest = 65, Average = 76.10\n",
            "Hindi: Highest = 95, Lowest = 60, Average = 80.00\n",
            "\n",
            "Overall: Highest = 345, Lowest = 257, Average = 312.30\n"
          ]
        }
      ]
    }
  ]
}